{
 "cells": [
  {
   "cell_type": "code",
   "execution_count": 1,
   "metadata": {},
   "outputs": [],
   "source": [
    "#Python 3.10.6\n",
    "import pandas as pd\n",
    "import numpy as np\n",
    "from tqdm import tqdm\n",
    "import json, requests, gzip\n",
    "\n",
    "URL_UNIPROT = 'https://rest.uniprot.org/uniprotkb/search?query='"
   ]
  },
  {
   "cell_type": "code",
   "execution_count": 2,
   "metadata": {},
   "outputs": [],
   "source": [
    "def fetch_uniprot_data(session,name):\n",
    "    '''Fetch uniprot data of reviewed entries searching by name'''\n",
    "    url = URL_UNIPROT+'(reviewed:true)%20AND%20'+name\n",
    "    headers = {'Accept-Encoding': 'gzip'}\n",
    "    response = session.get(url=url, headers=headers)\n",
    "    if response.status_code == 200:\n",
    "        response =json.loads(gzip.decompress(response.content).decode('utf-8'))\n",
    "        return response['results']\n",
    "    else:\n",
    "        return 'Error'"
   ]
  },
  {
   "cell_type": "code",
   "execution_count": 3,
   "metadata": {},
   "outputs": [],
   "source": [
    "def filter_kinetoplastids_targets(data_path):\n",
    "   '''Receives data in CSV format, looks for a 'Name' column, and filters ,using UNIPROT, the elements\n",
    "      that belong to the Kinetoplastea class'''\n",
    "   if 'PHARM' in data_path:\n",
    "      original_df = pd.read_csv(data_path, skiprows=1)\n",
    "      names = original_df['Name']\n",
    "   else:\n",
    "      original_df = pd.read_csv(data_path)\n",
    "      names = original_df['name']\n",
    "   result_df = pd.DataFrame()\n",
    "   #\n",
    "   session = requests.Session()\n",
    "   #\n",
    "   for name in tqdm(names):\n",
    "      try:\n",
    "         for char in ['[',']','(',')',':','?',',','>','<']:\n",
    "            name = name.replace(char, ' ')\n",
    "         data = fetch_uniprot_data(session,name)\n",
    "         for entry in data:\n",
    "            if 'lineage' in entry['organism'].keys() and 'Kinetoplastea' in entry['organism']['lineage']:\n",
    "               organism = entry['organism']['scientificName']\n",
    "               if 'proteinDescription' in entry.keys():\n",
    "                  if 'recommendedName' in entry['proteinDescription'].keys() and 'fullName' in entry['proteinDescription']['recommendedName']:\n",
    "                     target = entry['proteinDescription']['recommendedName']['fullName']['value']\n",
    "                  if 'ecNumbers' in entry['proteinDescription']['recommendedName'].keys():\n",
    "                     ecnum = entry['proteinDescription']['recommendedName']['ecNumbers'][0]['value']\n",
    "                  else:\n",
    "                     #Consultar BRENDA id\n",
    "                     if \"uniProtKBCrossReferences\" in entry.keys():\n",
    "                        ecnum = ''\n",
    "                        for db in entry[\"uniProtKBCrossReferences\"]:\n",
    "                           if 'BRENDA' in db['database']:\n",
    "                              ecnum += db['id'] + ' '\n",
    "                           else:\n",
    "                              ecnum = ' - '\n",
    "                     else:\n",
    "                        ecnum = ' - '\n",
    "               if 'primaryAccession' in entry.keys():\n",
    "                  uniId = entry['primaryAccession']\n",
    "               else:\n",
    "                  uniId = ' - '\n",
    "               bioproc = []\n",
    "               if 'keywords' in entry.keys():\n",
    "                  for keyword in entry['keywords']:\n",
    "                     if 'Biological' in keyword['category']:\n",
    "                           bioproc.append(keyword['name'])\n",
    "               triId = []\n",
    "               if \"uniProtKBCrossReferences\" in entry.keys():\n",
    "                  for db in entry[\"uniProtKBCrossReferences\"]:\n",
    "                     if 'TriTryp' in db['id']:\n",
    "                        triId.append(db['id'])\n",
    "               #\n",
    "               elemDict = {'Search':[name], 'Target': [target], 'Organism': [organism], 'EC Number': [ecnum],\n",
    "                         'Biological Process': [bioproc], 'Uniprot ID': [uniId], 'TriTrypDB ID': [triId]}\n",
    "               element_df = pd.DataFrame.from_dict(elemDict)\n",
    "               result_df = pd.concat([result_df,element_df], ignore_index= True)\n",
    "      except:\n",
    "         print('Error in: ', name)\n",
    "   print('Done')\n",
    "   return result_df"
   ]
  },
  {
   "cell_type": "code",
   "execution_count": 4,
   "metadata": {},
   "outputs": [],
   "source": [
    "input_list = ['./nqb-500-conformNO-PHARMMAPPER.csv','./nqb-SHAFTS.csv',\n",
    "              './nqh-500-conformNO-PHARMMAPPER.csv','./nqh-SHAFTS.csv',\n",
    "              './f6-300-conformNO-PHARMMAPPER.csv','./f6-SHAFTS.csv',\n",
    "              './f9-300-conform1-PHARMMAPPER.csv','./f9-SHAFTS.csv',\n",
    "              './t8-500-conformNO-PHARMMAPPER.csv','./t8-SHAFTS.csv',\n",
    "              './t11-300-conformNO-PHARMMAPPER.csv','./t11-SHAFTS.csv']\n",
    "\n",
    "output_list = ['PHMPR-nqb','CHMPR-nqb',\n",
    "              'PHMPR-nqh','CHMPR-nqh',\n",
    "              'PHMPR-f6','CHMPR-f6',\n",
    "              'PHMPR-f9','CHMPR-f9',\n",
    "              'PHMPR-t8','CHMPR-t8',\n",
    "              'PHMPR-t11','CHMPR-t11']"
   ]
  },
  {
   "cell_type": "code",
   "execution_count": 5,
   "metadata": {},
   "outputs": [
    {
     "name": "stdout",
     "output_type": "stream",
     "text": [
      "Running PHMPR-nqb\n"
     ]
    },
    {
     "name": "stderr",
     "output_type": "stream",
     "text": [
      "100%|██████████| 499/499 [08:24<00:00,  1.01s/it]\n"
     ]
    },
    {
     "name": "stdout",
     "output_type": "stream",
     "text": [
      "Done\n",
      "Running CHMPR-nqb\n"
     ]
    },
    {
     "name": "stderr",
     "output_type": "stream",
     "text": [
      "100%|██████████| 381/381 [05:50<00:00,  1.09it/s]\n"
     ]
    },
    {
     "name": "stdout",
     "output_type": "stream",
     "text": [
      "Done\n",
      "Running PHMPR-nqh\n"
     ]
    },
    {
     "name": "stderr",
     "output_type": "stream",
     "text": [
      "100%|██████████| 499/499 [05:45<00:00,  1.45it/s]\n"
     ]
    },
    {
     "name": "stdout",
     "output_type": "stream",
     "text": [
      "Done\n",
      "Running CHMPR-nqh\n"
     ]
    },
    {
     "name": "stderr",
     "output_type": "stream",
     "text": [
      "100%|██████████| 402/402 [04:29<00:00,  1.49it/s]\n"
     ]
    },
    {
     "name": "stdout",
     "output_type": "stream",
     "text": [
      "Done\n",
      "Running PHMPR-f6\n"
     ]
    },
    {
     "name": "stderr",
     "output_type": "stream",
     "text": [
      "100%|██████████| 299/299 [02:57<00:00,  1.68it/s]\n"
     ]
    },
    {
     "name": "stdout",
     "output_type": "stream",
     "text": [
      "Done\n",
      "Running PHMPR-f9\n"
     ]
    },
    {
     "name": "stderr",
     "output_type": "stream",
     "text": [
      "100%|██████████| 299/299 [02:23<00:00,  2.09it/s]\n"
     ]
    },
    {
     "name": "stdout",
     "output_type": "stream",
     "text": [
      "Done\n",
      "Running CHMPR-f9\n"
     ]
    },
    {
     "name": "stderr",
     "output_type": "stream",
     "text": [
      "100%|██████████| 280/280 [02:35<00:00,  1.80it/s]\n"
     ]
    },
    {
     "name": "stdout",
     "output_type": "stream",
     "text": [
      "Done\n",
      "Running PHMPR-t8\n"
     ]
    },
    {
     "name": "stderr",
     "output_type": "stream",
     "text": [
      "100%|██████████| 498/498 [05:34<00:00,  1.49it/s]\n"
     ]
    },
    {
     "name": "stdout",
     "output_type": "stream",
     "text": [
      "Done\n",
      "Running CHMPR-t8\n"
     ]
    },
    {
     "name": "stderr",
     "output_type": "stream",
     "text": [
      "100%|██████████| 279/279 [02:49<00:00,  1.64it/s]\n"
     ]
    },
    {
     "name": "stdout",
     "output_type": "stream",
     "text": [
      "Done\n",
      "Running PHMPR-t11\n"
     ]
    },
    {
     "name": "stderr",
     "output_type": "stream",
     "text": [
      "100%|██████████| 299/299 [02:21<00:00,  2.11it/s]"
     ]
    },
    {
     "name": "stdout",
     "output_type": "stream",
     "text": [
      "Done\n"
     ]
    },
    {
     "name": "stderr",
     "output_type": "stream",
     "text": [
      "\n"
     ]
    }
   ],
   "source": [
    "for i in range(len(input_list)):\n",
    "    try:\n",
    "        print('Running ' + output_list[i])\n",
    "        result = filter_kinetoplastids_targets(input_list[i])\n",
    "        result.to_csv(\"./ProcessedData_v2/Results/\" + output_list[i])\n",
    "    except Exception as err:\n",
    "        print(err)\n",
    "        print(f'In {input_list[i]} execution')"
   ]
  },
  {
   "cell_type": "code",
   "execution_count": 5,
   "metadata": {},
   "outputs": [
    {
     "name": "stderr",
     "output_type": "stream",
     "text": [
      "100%|██████████| 323/323 [04:42<00:00,  1.14it/s]\n"
     ]
    },
    {
     "name": "stdout",
     "output_type": "stream",
     "text": [
      "Done\n"
     ]
    },
    {
     "name": "stderr",
     "output_type": "stream",
     "text": [
      "100%|██████████| 295/295 [03:42<00:00,  1.33it/s]"
     ]
    },
    {
     "name": "stdout",
     "output_type": "stream",
     "text": [
      "Done\n"
     ]
    },
    {
     "name": "stderr",
     "output_type": "stream",
     "text": [
      "\n"
     ]
    }
   ],
   "source": [
    "#f6-CHMPR\n",
    "result = filter_kinetoplastids_targets(input_list[5])\n",
    "result.to_csv(\"./ProcessedData_v2/Results/\" + output_list[5])\n",
    "\n",
    "#T11-CHMPR\n",
    "result = filter_kinetoplastids_targets(input_list[11])\n",
    "result.to_csv(\"./ProcessedData_v2/Results/\" + output_list[11])"
   ]
  },
  {
   "cell_type": "code",
   "execution_count": 6,
   "metadata": {},
   "outputs": [],
   "source": [
    "#Listas sin resultados duplicados\n",
    "files = output_list\n",
    "for file in files:\n",
    "    search_df = pd.read_csv('./ProcessedData_v2/Results/'+file, index_col=0)\n",
    "    search_df = search_df.drop_duplicates(subset=['Uniprot ID'], ignore_index=True)\n",
    "    search_df.to_csv('./ProcessedData_v2/NoDuplicates/'+file)"
   ]
  },
  {
   "cell_type": "code",
   "execution_count": 7,
   "metadata": {},
   "outputs": [],
   "source": [
    "#Lista unica\n",
    "unified_df = pd.read_csv('./ProcessedData_v2/NoDuplicates/CHMPR-f9', index_col=0)\n",
    "unified_df['Found In'] = 'CHMPR-f9'\n",
    "files = output_list\n",
    "for file in files:\n",
    "    aux_df = pd.read_csv('./ProcessedData_v2/NoDuplicates/'+file, index_col=0)\n",
    "    aux_df['Found In'] = file\n",
    "    for i in range(len(unified_df)):\n",
    "        if unified_df.iloc[i,5] in list(aux_df['Uniprot ID']):\n",
    "            unified_df.loc[i,'Found In'] = unified_df.loc[i,'Found In']+' '+file\n",
    "    unified_df = pd.concat([unified_df,aux_df], ignore_index=True) \n",
    "unified_df = unified_df.drop_duplicates(subset=['Uniprot ID'], ignore_index=True)\n",
    "unified_df.to_csv('./ProcessedData_v2/AllTargets')"
   ]
  }
 ],
 "metadata": {
  "kernelspec": {
   "display_name": "Python 3",
   "language": "python",
   "name": "python3"
  },
  "language_info": {
   "codemirror_mode": {
    "name": "ipython",
    "version": 3
   },
   "file_extension": ".py",
   "mimetype": "text/x-python",
   "name": "python",
   "nbconvert_exporter": "python",
   "pygments_lexer": "ipython3",
   "version": "3.10.12"
  },
  "orig_nbformat": 4
 },
 "nbformat": 4,
 "nbformat_minor": 2
}
