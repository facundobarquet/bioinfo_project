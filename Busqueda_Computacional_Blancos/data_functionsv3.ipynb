{
 "cells": [
  {
   "cell_type": "code",
   "execution_count": 13,
   "metadata": {},
   "outputs": [],
   "source": [
    "#Python 3.10.6\n",
    "import pandas as pd\n",
    "import numpy as np\n",
    "from tqdm import tqdm\n",
    "import json, time, os, requests, gzip\n",
    "\n",
    "URL_UNIPROT = 'https://rest.uniprot.org/uniprotkb/search?query='"
   ]
  },
  {
   "cell_type": "code",
   "execution_count": 14,
   "metadata": {},
   "outputs": [],
   "source": [
    "def fetch_uniprot_data(session,name):\n",
    "    '''Fetch uniprot data of reviewed entries searching by name'''\n",
    "    url = URL_UNIPROT+'(reviewed:true)%20AND%20'+name\n",
    "    headers = {'Accept-Encoding': 'gzip'}\n",
    "    response = session.get(url=url, headers=headers)\n",
    "    if response.status_code == 200:\n",
    "        response =json.loads(gzip.decompress(response.content).decode('utf-8'))\n",
    "        return response['results']\n",
    "    else:\n",
    "        return 'Error'"
   ]
  },
  {
   "cell_type": "code",
   "execution_count": 15,
   "metadata": {},
   "outputs": [],
   "source": [
    "def filter_kinetoplastids_targets(data_path):\n",
    "   '''Receives data in CSV format, looks for a 'Name' column, and filters ,using UNIPROT, the elements\n",
    "      that belong to the Kinetoplastea class'''\n",
    "   if 'PHARM' in data_path:\n",
    "      original_df = pd.read_csv(data_path, skiprows=1)\n",
    "      names = original_df['Name']\n",
    "   else:\n",
    "      original_df = pd.read_csv(data_path)\n",
    "      names = original_df['name']\n",
    "   result_df = pd.DataFrame()\n",
    "   #\n",
    "   session = requests.Session()\n",
    "   #\n",
    "   for name in tqdm(names):\n",
    "      try:\n",
    "         for char in ['[',']','(',')',':','?',',','>','<']:\n",
    "            name = name.replace(char, ' ')\n",
    "         data = fetch_uniprot_data(session,name)\n",
    "         for entry in data:\n",
    "            if 'lineage' in entry['organism'].keys() and 'Kinetoplastea' in entry['organism']['lineage']:\n",
    "               organism = entry['organism']['scientificName']\n",
    "               if 'proteinDescription' in entry.keys():\n",
    "                  if 'recommendedName' in entry['proteinDescription'].keys() and 'fullName' in entry['proteinDescription']['recommendedName']:\n",
    "                     target = entry['proteinDescription']['recommendedName']['fullName']['value']\n",
    "                  if 'ecNumbers' in entry['proteinDescription']['recommendedName'].keys():\n",
    "                     ecnum = entry['proteinDescription']['recommendedName']['ecNumbers'][0]['value']\n",
    "                  else:\n",
    "                     ecnum = ' - '\n",
    "               if 'primaryAccession' in entry.keys():\n",
    "                  uniId = entry['primaryAccession']\n",
    "               else:\n",
    "                  uniId = ' - '\n",
    "               bioproc = []\n",
    "               if 'keywords' in entry.keys():\n",
    "                  for keyword in entry['keywords']:\n",
    "                     if 'Biological' in keyword['category']:\n",
    "                           bioproc.append(keyword['name'])\n",
    "               triId = []\n",
    "               if \"uniProtKBCrossReferences\" in entry.keys():\n",
    "                  for db in entry[\"uniProtKBCrossReferences\"]:\n",
    "                     if 'TriTryp' in db['id']:\n",
    "                        triId.append(db['id'])\n",
    "               #\n",
    "               elemDict = {'Search':[name], 'Target': [target], 'Organism': [organism], 'EC Number': [ecnum],\n",
    "                         'Biological Process': [bioproc], 'Uniprot ID': [uniId], 'TriTrypDB ID': [triId]}\n",
    "               element_df = pd.DataFrame.from_dict(elemDict)\n",
    "               result_df = pd.concat([result_df,element_df], ignore_index= True)\n",
    "      except:\n",
    "         print('Error in: ', name)\n",
    "   print('Done')\n",
    "   return result_df"
   ]
  },
  {
   "cell_type": "code",
   "execution_count": 16,
   "metadata": {},
   "outputs": [],
   "source": [
    "# result = filter_kinetoplastids_targets('./nqh-SHAFTS.csv')\n",
    "# result"
   ]
  },
  {
   "cell_type": "code",
   "execution_count": 17,
   "metadata": {},
   "outputs": [],
   "source": [
    "# result.to_csv(\"./ProcessedData_v2/CHMPR-nqh\")"
   ]
  }
 ],
 "metadata": {
  "kernelspec": {
   "display_name": "Python 3",
   "language": "python",
   "name": "python3"
  },
  "language_info": {
   "codemirror_mode": {
    "name": "ipython",
    "version": 3
   },
   "file_extension": ".py",
   "mimetype": "text/x-python",
   "name": "python",
   "nbconvert_exporter": "python",
   "pygments_lexer": "ipython3",
   "version": "3.10.12"
  },
  "orig_nbformat": 4
 },
 "nbformat": 4,
 "nbformat_minor": 2
}
